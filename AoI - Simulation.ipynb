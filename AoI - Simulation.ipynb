{
 "cells": [
  {
   "cell_type": "code",
   "execution_count": 167,
   "id": "4b6973cb",
   "metadata": {},
   "outputs": [],
   "source": [
    "import numpy as np\n",
    "import math \n",
    "# from sympy import *\n",
    "# from sympy.abc import x,y,X,Y\n",
    "import random\n",
    "# import operator\n",
    "# import sys\n",
    "import pandas as pd\n",
    "# import pickle\n",
    "import plotly.express as px\n",
    "# %load_ext memory_profiler\n",
    "# from sympy import Symbol \n",
    "# from sympy import MatrixSymbol, Matrix\n",
    "# from collections import deque\n",
    "# PRECISION = 6\n",
    "# from multiprocessing import Pool\n",
    "# from functools import partial\n",
    "import tqdm\n",
    "# import time\n",
    "import string\n",
    "# import json\n",
    "from matplotlib import pyplot as plt"
   ]
  },
  {
   "cell_type": "code",
   "execution_count": 168,
   "id": "88d01721",
   "metadata": {},
   "outputs": [],
   "source": [
    "def choose(n, k):\n",
    "    if 0 <= k <= n:\n",
    "        ntok = 1\n",
    "        ktok = 1\n",
    "        for t in range(1, min(k, n - k) + 1):\n",
    "            ntok *= n\n",
    "            ktok *= t\n",
    "            n -= 1\n",
    "        return ntok // ktok\n",
    "    else:\n",
    "        return 0"
   ]
  },
  {
   "cell_type": "markdown",
   "id": "a49b22aa",
   "metadata": {},
   "source": [
    "## Bernoulli random variable "
   ]
  },
  {
   "cell_type": "code",
   "execution_count": 169,
   "id": "88da1f0b",
   "metadata": {},
   "outputs": [],
   "source": [
    "# 1 denotes erasure and 0 denotes no erasure\n",
    "def brv(p):\n",
    "    tkn = np.random.uniform(0,1)\n",
    "    if tkn <= p :\n",
    "        return \"1\"\n",
    "    else :\n",
    "        return \"0\""
   ]
  },
  {
   "cell_type": "markdown",
   "id": "9af4949a",
   "metadata": {},
   "source": [
    "## Realizaton of a Gilbert-Elliot Channel "
   ]
  },
  {
   "cell_type": "code",
   "execution_count": 170,
   "id": "99634723",
   "metadata": {},
   "outputs": [],
   "source": [
    "# Let the markov chain initially be in good state\n",
    "def mc_ge(a,b,e1,e2,TIME):\n",
    "    rls = \"g\"\n",
    "    ers_ptn = brv(e1)\n",
    "    \n",
    "    for t in range(1,TIME):\n",
    "        pv_st = rls[t-1]\n",
    "        tkn = np.random.uniform(0,1)\n",
    "        if pv_st == \"g\":\n",
    "            if tkn <= 1-a:\n",
    "                rls += \"g\"\n",
    "                ers_ptn += brv(e1)\n",
    "            else :\n",
    "                rls += \"b\"\n",
    "                ers_ptn += brv(e2)                                \n",
    "        else:\n",
    "            if tkn <= 1-b:\n",
    "                rls += \"b\"\n",
    "                ers_ptn += brv(e2)                \n",
    "            else :\n",
    "                rls += \"g\"\n",
    "                ers_ptn += brv(e1)\n",
    "    return rls,ers_ptn"
   ]
  },
  {
   "cell_type": "code",
   "execution_count": 82,
   "id": "5c4d0783",
   "metadata": {},
   "outputs": [
    {
     "name": "stdout",
     "output_type": "stream",
     "text": [
      "States:  gggggggggggggggggggggggggggggggggggggggggggggggggggggggggggggggggggggggggggggggggggggggggggggggggggg\n",
      "Erasure Pattern:  0000000000000000000000000000000000000000000000000000000000000000000000000000000000000000000000000000\n"
     ]
    }
   ],
   "source": [
    "a = 0.002\n",
    "b = 0.5\n",
    "e1 = 0.0001\n",
    "e2 = 1\n",
    "TIME = 100\n",
    "\n",
    "rls,ers_ptn = mc_ge(a,b,e1,e2,TIME)\n",
    "print(\"States: \",rls)\n",
    "print(\"Erasure Pattern: \",ers_ptn)"
   ]
  },
  {
   "cell_type": "markdown",
   "id": "175f161f",
   "metadata": {},
   "source": [
    "# AoI calulation - Simulation"
   ]
  },
  {
   "cell_type": "code",
   "execution_count": 83,
   "id": "78a0e564",
   "metadata": {},
   "outputs": [],
   "source": [
    "# Number of Sources \n",
    "K = 200\n",
    "\n",
    "# Note: Initially the channel is in good state!\n",
    "gtob = 0.01\n",
    "btog = 0.5\n",
    "e1 = 0.00001\n",
    "e2 = 1\n",
    "\n",
    "# Round-Robin scheduling \n",
    "NUM_ROUNDS = 500\n",
    "TIME = NUM_ROUNDS*K \n",
    "\n",
    "# Generating the erasure pattern and the channel realization\n",
    "rls,ers_ptn = mc_ge(gtob,btog,e1,e2,TIME)"
   ]
  },
  {
   "cell_type": "code",
   "execution_count": 84,
   "id": "53f77ee7",
   "metadata": {},
   "outputs": [],
   "source": [
    "# ers_ptn"
   ]
  },
  {
   "cell_type": "code",
   "execution_count": 85,
   "id": "35dfa998",
   "metadata": {},
   "outputs": [
    {
     "data": {
      "text/plain": [
       "100000"
      ]
     },
     "execution_count": 85,
     "metadata": {},
     "output_type": "execute_result"
    }
   ],
   "source": [
    "TIME"
   ]
  },
  {
   "cell_type": "markdown",
   "id": "6ff8a9c8",
   "metadata": {},
   "source": [
    "## No Coding"
   ]
  },
  {
   "cell_type": "code",
   "execution_count": 86,
   "id": "d4fcf85d",
   "metadata": {},
   "outputs": [],
   "source": [
    "# u: time-stamp and the latest recieved packet\n",
    "u = {}\n",
    "for k in range(K):\n",
    "    u[k] = []  \n",
    "for t in range(0,TIME):\n",
    "    src = t%K \n",
    "    if ers_ptn[t] == \"0\":\n",
    "        u[src].append((t,t+1))"
   ]
  },
  {
   "cell_type": "code",
   "execution_count": 87,
   "id": "b2dec2fd",
   "metadata": {},
   "outputs": [
    {
     "name": "stderr",
     "output_type": "stream",
     "text": [
      "100%|█████████████████████████████████████████| 200/200 [00:04<00:00, 41.64it/s]\n"
     ]
    }
   ],
   "source": [
    "# Instantaneous Age\n",
    "delta = {}\n",
    "for k in tqdm.tqdm(range(K)):\n",
    "    time_stamps = [i[0] for i in u[k]]\n",
    "    rec_packs = [i[1] for i in u[k]]\n",
    "    delta[k] = []\n",
    "    time = time_stamps[0]+1\n",
    "    for i in range(1,len(time_stamps)):\n",
    "        crn_time_stamp = time_stamps[i-1]\n",
    "        fut_rec_pack = rec_packs[i]\n",
    "        while (time<fut_rec_pack):\n",
    "            delta[k].append((time,time-crn_time_stamp))\n",
    "            time+= 1 "
   ]
  },
  {
   "cell_type": "code",
   "execution_count": 88,
   "id": "2c05e13d",
   "metadata": {},
   "outputs": [],
   "source": [
    "# delta[0]"
   ]
  },
  {
   "cell_type": "code",
   "execution_count": 89,
   "id": "f9162fcc",
   "metadata": {},
   "outputs": [
    {
     "data": {
      "image/png": "[encoded data removed]",
      "text/plain": [
       "<Figure size 432x288 with 1 Axes>"
      ]
     },
     "metadata": {
      "needs_background": "light"
     },
     "output_type": "display_data"
    }
   ],
   "source": [
    "x = []\n",
    "y = []\n",
    "src = 0\n",
    "for i in range(len(delta[src])):\n",
    "    x.append(delta[src][i][0])\n",
    "    y.append(delta[src][i][1])\n",
    "plt.plot(x,y,\"-\")\n",
    "plt.xlabel(\"time\")\n",
    "plt.ylabel(\"AoI\")\n",
    "plt.show()"
   ]
  },
  {
   "cell_type": "code",
   "execution_count": 90,
   "id": "00ce1dad",
   "metadata": {},
   "outputs": [
    {
     "name": "stderr",
     "output_type": "stream",
     "text": [
      "100%|█████████████████████████████████████████| 200/200 [00:06<00:00, 31.19it/s]\n"
     ]
    }
   ],
   "source": [
    "AoI = {}\n",
    "AoI_sys = 0\n",
    "cnt = 0\n",
    "for k in tqdm.tqdm(range(K)):\n",
    "    if (delta[k]):\n",
    "        cnt += 1 \n",
    "        x = []\n",
    "        y = []\n",
    "        for i in range(len(delta[k])):\n",
    "            x.append(delta[k][i][0])\n",
    "            y.append(delta[k][i][1])\n",
    "        AoI[k] = np.trapz(y,dx=1)/len(x)\n",
    "        AoI_sys += AoI[k]\n",
    "AoI_sys /= cnt"
   ]
  },
  {
   "cell_type": "code",
   "execution_count": 91,
   "id": "1b6d79a9",
   "metadata": {},
   "outputs": [
    {
     "data": {
      "text/plain": [
       "104.55526111434716"
      ]
     },
     "execution_count": 91,
     "metadata": {},
     "output_type": "execute_result"
    }
   ],
   "source": [
    "AoI_sys"
   ]
  },
  {
   "cell_type": "code",
   "execution_count": 92,
   "id": "4ab4a099",
   "metadata": {},
   "outputs": [],
   "source": [
    "# Analytical expression for qEC(e1)\n",
    "# AoI_sys_th = (K/2)*((1+e1)/(1-e1)) + 1\n",
    "# AoI_sys_th"
   ]
  },
  {
   "cell_type": "markdown",
   "id": "74e3a051",
   "metadata": {},
   "source": [
    "## MDS Code "
   ]
  },
  {
   "cell_type": "code",
   "execution_count": 134,
   "id": "706bca91",
   "metadata": {},
   "outputs": [],
   "source": [
    "n = 11\n",
    "dim = 5"
   ]
  },
  {
   "cell_type": "code",
   "execution_count": 135,
   "id": "f414f8a0",
   "metadata": {},
   "outputs": [],
   "source": [
    "# # dim = 12\n",
    "# n = 10\n",
    "# # dim = math.floor(n - n*e1)-1\n",
    "# dim = 6\n",
    "R = dim/n\n",
    "NUM_BLOCKS = (int) (TIME/n)\n",
    "TIME = (n*NUM_BLOCKS)\n",
    "BLOCK_FAILURE = np.zeros((NUM_BLOCKS))\n",
    "NUM_BLOCK_ERS = 0 \n",
    "\n",
    "for CRNT_BLOCK in range(NUM_BLOCKS):\n",
    "    cnt = 1 \n",
    "    ers_cnt = 0 \n",
    "    while cnt<=n:\n",
    "        t = CRNT_BLOCK*n + cnt-1\n",
    "        if ers_ptn[t] ==\"1\":\n",
    "            ers_cnt +=1  \n",
    "        cnt+=1         \n",
    "    if ers_cnt > (n-dim):\n",
    "        BLOCK_FAILURE[CRNT_BLOCK] = 1\n",
    "        NUM_BLOCK_ERS +=1 "
   ]
  },
  {
   "cell_type": "code",
   "execution_count": 136,
   "id": "a3a86c2d",
   "metadata": {},
   "outputs": [],
   "source": [
    "# NUM_BLOCKS"
   ]
  },
  {
   "cell_type": "code",
   "execution_count": 137,
   "id": "05327aef",
   "metadata": {},
   "outputs": [
    {
     "data": {
      "text/plain": [
       "0.00055005500550055"
      ]
     },
     "execution_count": 137,
     "metadata": {},
     "output_type": "execute_result"
    }
   ],
   "source": [
    "NUM_BLOCK_ERS/NUM_BLOCKS"
   ]
  },
  {
   "cell_type": "code",
   "execution_count": 138,
   "id": "d940490e",
   "metadata": {},
   "outputs": [],
   "source": [
    "src = 0\n",
    "cnt = 0\n",
    "t = 0\n",
    "trans = []\n",
    "while t<TIME:\n",
    "    cnt +=1 \n",
    "    if src==K:\n",
    "        src=0\n",
    "    trans.append((t,src))\n",
    "    if cnt==dim:\n",
    "        cnt=0 \n",
    "        t+=n-dim\n",
    "    \n",
    "    src+=1\n",
    "    t+=1   "
   ]
  },
  {
   "cell_type": "code",
   "execution_count": 139,
   "id": "42b63aea",
   "metadata": {},
   "outputs": [],
   "source": [
    "# u: time-stamp and the latest recieved packet\n",
    "u = {}\n",
    "for k in range(K):\n",
    "    u[k] = []  \n",
    "    \n",
    "BLOCK_NUM = -1   \n",
    "for t in trans:\n",
    "    time = t[0]\n",
    "    src = t[1]\n",
    "    if time%n==0:\n",
    "        BLOCK_NUM+=1\n",
    "    POS_IN_BLOCK = time%n\n",
    "    if ers_ptn[time] == \"0\":\n",
    "        u[src].append((time,time+1))\n",
    "    elif ers_ptn[time] == \"1\" and BLOCK_FAILURE[BLOCK_NUM] == 0:\n",
    "        u[src].append((time,time+n-POS_IN_BLOCK))\n",
    "        "
   ]
  },
  {
   "cell_type": "code",
   "execution_count": 140,
   "id": "2b13c267",
   "metadata": {},
   "outputs": [
    {
     "name": "stderr",
     "output_type": "stream",
     "text": [
      "100%|█████████████████████████████████████████| 200/200 [00:05<00:00, 39.76it/s]\n"
     ]
    }
   ],
   "source": [
    "# Instantaneous Age\n",
    "delta = {}\n",
    "for k in tqdm.tqdm(range(K)):\n",
    "    time_stamps = [i[0] for i in u[k]]\n",
    "    rec_packs = [i[1] for i in u[k]]\n",
    "    delta[k] = []\n",
    "    time = time_stamps[0]+1\n",
    "    for i in range(1,len(time_stamps)):\n",
    "        crn_time_stamp = time_stamps[i-1]\n",
    "        fut_rec_pack = rec_packs[i]\n",
    "        while (time<fut_rec_pack):\n",
    "            delta[k].append((time,time-crn_time_stamp))\n",
    "            time+= 1  "
   ]
  },
  {
   "cell_type": "code",
   "execution_count": 141,
   "id": "7244e4a9",
   "metadata": {},
   "outputs": [
    {
     "data": {
      "image/png": "[encoded data removed]",
      "text/plain": [
       "<Figure size 432x288 with 1 Axes>"
      ]
     },
     "metadata": {
      "needs_background": "light"
     },
     "output_type": "display_data"
    }
   ],
   "source": [
    "x = []\n",
    "y = []\n",
    "src = 22\n",
    "for i in range(len(delta[src])):\n",
    "    x.append(delta[src][i][0])\n",
    "    y.append(delta[src][i][1])\n",
    "plt.plot(x,y,\"-\")\n",
    "plt.xlabel(\"time\")\n",
    "plt.ylabel(\"AoI\")\n",
    "plt.show()"
   ]
  },
  {
   "cell_type": "code",
   "execution_count": 142,
   "id": "d183bc9c",
   "metadata": {},
   "outputs": [
    {
     "name": "stderr",
     "output_type": "stream",
     "text": [
      "100%|█████████████████████████████████████████| 200/200 [00:06<00:00, 28.71it/s]\n"
     ]
    }
   ],
   "source": [
    "AoI = {}\n",
    "AoI_sys = 0\n",
    "cnt = 0\n",
    "for k in tqdm.tqdm(range(K)):\n",
    "    if (delta[k]):\n",
    "        cnt += 1 \n",
    "        x = []\n",
    "        y = []\n",
    "        for i in range(len(delta[k])):\n",
    "            x.append(delta[k][i][0])\n",
    "            y.append(delta[k][i][1])\n",
    "        AoI[k] = np.trapz(y,dx=1)/len(x)\n",
    "        AoI_sys += AoI[k]\n",
    "AoI_sys /= cnt"
   ]
  },
  {
   "cell_type": "code",
   "execution_count": 143,
   "id": "69a713c6",
   "metadata": {},
   "outputs": [
    {
     "data": {
      "text/plain": [
       "220.80108801468847"
      ]
     },
     "execution_count": 143,
     "metadata": {},
     "output_type": "execute_result"
    }
   ],
   "source": [
    "AoI_sys"
   ]
  },
  {
   "cell_type": "code",
   "execution_count": 144,
   "id": "da4ec273",
   "metadata": {},
   "outputs": [],
   "source": [
    "# Analytical expression for qEC(e1)\n",
    "\n",
    "# phi = 0\n",
    "# for i in range(n-dim):\n",
    "#     phi += choose(n-1,i)*(e1**i)*((1-e1)**(n-1-i))\n",
    "# pf = 1 -((1-e1)+e1*phi)\n",
    "\n",
    "# AoI_sys_th = (K/(2*R))*((1+pf)/(1-pf)) + (R/K)*(((1-e1)*(e1*phi)*((n-1)**2))/(1-pf))\n",
    "# AoI_sys_th"
   ]
  },
  {
   "cell_type": "code",
   "execution_count": 145,
   "id": "e21e70fe",
   "metadata": {},
   "outputs": [],
   "source": [
    "# pf"
   ]
  },
  {
   "cell_type": "code",
   "execution_count": null,
   "id": "7b171a80",
   "metadata": {},
   "outputs": [],
   "source": []
  },
  {
   "cell_type": "markdown",
   "id": "f9e596db",
   "metadata": {},
   "source": [
    "## Streaming Codes "
   ]
  },
  {
   "cell_type": "code",
   "execution_count": 151,
   "id": "01d3beed",
   "metadata": {},
   "outputs": [],
   "source": [
    "T = 10 \n",
    "a = 4\n",
    "b = 7\n",
    "n = T + 1 -a +b\n",
    "dim = T+1-a\n",
    "\n",
    "# n = T+1-a+b\n",
    "# dim = T+1-a\n",
    "# n = 10\n",
    "# dim = 7\n",
    "R = dim/n\n",
    "\n",
    "# b = n-dim\n",
    "# a = max(b,1)\n",
    "# T = dim-1+a\n",
    "\n",
    "\n",
    "NUM_BLOCKS = (int) (TIME/n)\n",
    "TIME = n*NUM_BLOCKS\n",
    "BLOCK_FAILURE = np.zeros((NUM_BLOCKS))\n",
    "NUM_BLOCK_ERS = 0\n",
    "for CRNT_BLOCK in range(NUM_BLOCKS):\n",
    "    cnt = 1  \n",
    "    ers_pos_block = []\n",
    "    while cnt<=n:\n",
    "        t = CRNT_BLOCK*n + cnt-1\n",
    "        if ers_ptn[t] ==\"1\":\n",
    "            ers_pos_block.append(t)\n",
    "        cnt+=1         \n",
    "    rand_ers_cnt = len(ers_pos_block)\n",
    "    if (rand_ers_cnt):\n",
    "        ers_span = ers_pos_block[-1]-ers_pos_block[0]+1\n",
    "        if (rand_ers_cnt > a) and (ers_span>b):\n",
    "            BLOCK_FAILURE[CRNT_BLOCK] = 1\n",
    "            NUM_BLOCK_ERS +=1 "
   ]
  },
  {
   "cell_type": "code",
   "execution_count": 152,
   "id": "a5653f88",
   "metadata": {},
   "outputs": [
    {
     "data": {
      "text/plain": [
       "(4, 7, 10)"
      ]
     },
     "execution_count": 152,
     "metadata": {},
     "output_type": "execute_result"
    }
   ],
   "source": [
    "(a,b,T)"
   ]
  },
  {
   "cell_type": "code",
   "execution_count": 153,
   "id": "9b9b7466",
   "metadata": {},
   "outputs": [
    {
     "data": {
      "text/plain": [
       "0.5"
      ]
     },
     "execution_count": 153,
     "metadata": {},
     "output_type": "execute_result"
    }
   ],
   "source": [
    "R"
   ]
  },
  {
   "cell_type": "code",
   "execution_count": 154,
   "id": "dcfcbbe4",
   "metadata": {},
   "outputs": [
    {
     "data": {
      "text/plain": [
       "0.0015401848221786615"
      ]
     },
     "execution_count": 154,
     "metadata": {},
     "output_type": "execute_result"
    }
   ],
   "source": [
    "NUM_BLOCK_ERS/NUM_BLOCKS"
   ]
  },
  {
   "cell_type": "code",
   "execution_count": 155,
   "id": "beeb9335",
   "metadata": {},
   "outputs": [],
   "source": [
    "src = 0\n",
    "cnt = 0\n",
    "t = 0\n",
    "trans = []\n",
    "while t<TIME:\n",
    "    cnt +=1 \n",
    "    if src==K:\n",
    "        src=0\n",
    "    trans.append((t,src))\n",
    "    if cnt==dim:\n",
    "        cnt=0 \n",
    "        t+=n-dim\n",
    "    \n",
    "    src+=1\n",
    "    t+=1   "
   ]
  },
  {
   "cell_type": "code",
   "execution_count": 156,
   "id": "17f4af76",
   "metadata": {},
   "outputs": [],
   "source": [
    "# trans[0:300]"
   ]
  },
  {
   "cell_type": "code",
   "execution_count": 157,
   "id": "9c63e7e4",
   "metadata": {},
   "outputs": [],
   "source": [
    "# u: time-stamp and the latest recieved packet\n",
    "u = {}\n",
    "for k in range(K):\n",
    "    u[k] = []  \n",
    "    \n",
    "BLOCK_NUM = -1   \n",
    "for t in trans:\n",
    "    time = t[0]\n",
    "    src = t[1]\n",
    "    if time%n==0:\n",
    "        BLOCK_NUM+=1\n",
    "    POS_IN_BLOCK = time%n\n",
    "    if ers_ptn[time] == \"0\":\n",
    "        u[src].append((time,time+1))\n",
    "    elif ers_ptn[time] == \"1\" and BLOCK_FAILURE[BLOCK_NUM] == 0:\n",
    "        u[src].append((time,time+(T+1)-POS_IN_BLOCK))"
   ]
  },
  {
   "cell_type": "code",
   "execution_count": 158,
   "id": "37a10c84",
   "metadata": {},
   "outputs": [
    {
     "name": "stderr",
     "output_type": "stream",
     "text": [
      "100%|█████████████████████████████████████████| 200/200 [00:04<00:00, 40.23it/s]\n"
     ]
    }
   ],
   "source": [
    "# Instantaneous Age\n",
    "delta = {}\n",
    "for k in tqdm.tqdm(range(K)):\n",
    "    time_stamps = [i[0] for i in u[k]]\n",
    "    rec_packs = [i[1] for i in u[k]]\n",
    "    delta[k] = []\n",
    "    time = time_stamps[0]+1\n",
    "    for i in range(1,len(time_stamps)):\n",
    "        crn_time_stamp = time_stamps[i-1]\n",
    "        fut_rec_pack = rec_packs[i]\n",
    "        while (time<fut_rec_pack):\n",
    "            delta[k].append((time,time-crn_time_stamp))\n",
    "            time+= 1  "
   ]
  },
  {
   "cell_type": "code",
   "execution_count": 159,
   "id": "dfb684c7",
   "metadata": {},
   "outputs": [
    {
     "name": "stderr",
     "output_type": "stream",
     "text": [
      "100%|█████████████████████████████████████████| 200/200 [00:07<00:00, 27.93it/s]\n"
     ]
    }
   ],
   "source": [
    "AoI = {}\n",
    "AoI_sys = 0\n",
    "cnt = 0\n",
    "for k in tqdm.tqdm(range(K)):\n",
    "    if (delta[k]):\n",
    "        cnt += 1 \n",
    "        x = []\n",
    "        y = []\n",
    "        for i in range(len(delta[k])):\n",
    "            x.append(delta[k][i][0])\n",
    "            y.append(delta[k][i][1])\n",
    "        AoI[k] = np.trapz(y,dx=1)/len(x)\n",
    "        AoI_sys += AoI[k]\n",
    "AoI_sys /= cnt"
   ]
  },
  {
   "cell_type": "code",
   "execution_count": 160,
   "id": "a9adc461",
   "metadata": {},
   "outputs": [
    {
     "data": {
      "text/plain": [
       "200.900719354573"
      ]
     },
     "execution_count": 160,
     "metadata": {},
     "output_type": "execute_result"
    }
   ],
   "source": [
    "AoI_sys"
   ]
  },
  {
   "cell_type": "code",
   "execution_count": null,
   "id": "876e16d3",
   "metadata": {},
   "outputs": [],
   "source": []
  },
  {
   "cell_type": "code",
   "execution_count": null,
   "id": "77a577ee",
   "metadata": {},
   "outputs": [],
   "source": []
  },
  {
   "cell_type": "markdown",
   "id": "8b6f87ee",
   "metadata": {},
   "source": [
    "# Analysis of Analytical expressions"
   ]
  },
  {
   "cell_type": "code",
   "execution_count": 171,
   "id": "8ac28e96",
   "metadata": {},
   "outputs": [],
   "source": [
    "K = 1000\n",
    "e1 = 0.3\n",
    "n = 10\n",
    "dim = math.floor(n-n*e1+1)"
   ]
  },
  {
   "cell_type": "code",
   "execution_count": 172,
   "id": "08e56a7f",
   "metadata": {},
   "outputs": [
    {
     "name": "stderr",
     "output_type": "stream",
     "text": [
      "100%|██████████████████████████████████████████| 9/9 [00:00<00:00, 58890.38it/s]\n"
     ]
    }
   ],
   "source": [
    "AoI_sys_th_uncoded = []\n",
    "pf_list = []\n",
    "R_list = []\n",
    "AoI_sys_th_coded = []\n",
    "for dim in tqdm.tqdm(range(2,n+1)):\n",
    "    R = dim/n\n",
    "    phi = 0\n",
    "    for i in range(n-dim):\n",
    "        phi += choose(n-1,i)*(e1**i)*((1-e1)**(n-1-i))\n",
    "    pf = 1 -((1-e1)+e1*phi)\n",
    "    pf_list.append(pf)\n",
    "    R_list.append(R)\n",
    "    AoI_sys_th_coded.append((K/(2*R))*((1+pf)/(1-pf)))\n",
    "    AoI_sys_th_uncoded.append((K/(2))*((1+e1)/(1-e1)))"
   ]
  },
  {
   "cell_type": "code",
   "execution_count": 173,
   "id": "d281e27e",
   "metadata": {},
   "outputs": [],
   "source": [
    "d = {\"Rate\":R_list, \"Coded\":AoI_sys_th_coded, \"Uncoded\":AoI_sys_th_uncoded}\n",
    "Df = pd.DataFrame(data = d)"
   ]
  },
  {
   "cell_type": "code",
   "execution_count": 174,
   "id": "7d1a6d15",
   "metadata": {},
   "outputs": [
    {
     "data": {
      "text/html": [
       "<div>\n",
       "<style scoped>\n",
       "    .dataframe tbody tr th:only-of-type {\n",
       "        vertical-align: middle;\n",
       "    }\n",
       "\n",
       "    .dataframe tbody tr th {\n",
       "        vertical-align: top;\n",
       "    }\n",
       "\n",
       "    .dataframe thead th {\n",
       "        text-align: right;\n",
       "    }\n",
       "</style>\n",
       "<table border=\"1\" class=\"dataframe\">\n",
       "  <thead>\n",
       "    <tr style=\"text-align: right;\">\n",
       "      <th></th>\n",
       "      <th>Rate</th>\n",
       "      <th>Coded</th>\n",
       "      <th>Uncoded</th>\n",
       "    </tr>\n",
       "  </thead>\n",
       "  <tbody>\n",
       "    <tr>\n",
       "      <th>0</th>\n",
       "      <td>0.2</td>\n",
       "      <td>2500.649623</td>\n",
       "      <td>928.571429</td>\n",
       "    </tr>\n",
       "    <tr>\n",
       "      <th>1</th>\n",
       "      <td>0.3</td>\n",
       "      <td>1670.963091</td>\n",
       "      <td>928.571429</td>\n",
       "    </tr>\n",
       "    <tr>\n",
       "      <th>2</th>\n",
       "      <td>0.4</td>\n",
       "      <td>1269.116194</td>\n",
       "      <td>928.571429</td>\n",
       "    </tr>\n",
       "    <tr>\n",
       "      <th>3</th>\n",
       "      <td>0.5</td>\n",
       "      <td>1061.096248</td>\n",
       "      <td>928.571429</td>\n",
       "    </tr>\n",
       "    <tr>\n",
       "      <th>4</th>\n",
       "      <td>0.6</td>\n",
       "      <td>980.433981</td>\n",
       "      <td>928.571429</td>\n",
       "    </tr>\n",
       "    <tr>\n",
       "      <th>5</th>\n",
       "      <td>0.7</td>\n",
       "      <td>988.727382</td>\n",
       "      <td>928.571429</td>\n",
       "    </tr>\n",
       "    <tr>\n",
       "      <th>6</th>\n",
       "      <td>0.8</td>\n",
       "      <td>1022.335796</td>\n",
       "      <td>928.571429</td>\n",
       "    </tr>\n",
       "    <tr>\n",
       "      <th>7</th>\n",
       "      <td>0.9</td>\n",
       "      <td>1004.761284</td>\n",
       "      <td>928.571429</td>\n",
       "    </tr>\n",
       "    <tr>\n",
       "      <th>8</th>\n",
       "      <td>1.0</td>\n",
       "      <td>928.571429</td>\n",
       "      <td>928.571429</td>\n",
       "    </tr>\n",
       "  </tbody>\n",
       "</table>\n",
       "</div>"
      ],
      "text/plain": [
       "   Rate        Coded     Uncoded\n",
       "0   0.2  2500.649623  928.571429\n",
       "1   0.3  1670.963091  928.571429\n",
       "2   0.4  1269.116194  928.571429\n",
       "3   0.5  1061.096248  928.571429\n",
       "4   0.6   980.433981  928.571429\n",
       "5   0.7   988.727382  928.571429\n",
       "6   0.8  1022.335796  928.571429\n",
       "7   0.9  1004.761284  928.571429\n",
       "8   1.0   928.571429  928.571429"
      ]
     },
     "execution_count": 174,
     "metadata": {},
     "output_type": "execute_result"
    }
   ],
   "source": [
    "Df"
   ]
  },
  {
   "cell_type": "code",
   "execution_count": 175,
   "id": "1613fd9c",
   "metadata": {},
   "outputs": [
    {
     "data": {
      "application/vnd.plotly.v1+json": {
       "config": {
        "plotlyServerURL": "https://plot.ly"
       },
       "data": [
        {
         "hovertemplate": "variable=Uncoded<br>Rate=%{x}<br>value=%{y}<extra></extra>",
         "legendgroup": "Uncoded",
         "line": {
          "color": "#636efa",
          "dash": "solid"
         },
         "marker": {
          "symbol": "circle"
         },
         "mode": "lines",
         "name": "Uncoded",
         "orientation": "v",
         "showlegend": true,
         "type": "scatter",
         "x": [
          0.2,
          0.3,
          0.4,
          0.5,
          0.6,
          0.7,
          0.8,
          0.9,
          1
         ],
         "xaxis": "x",
         "y": [
          928.5714285714287,
          928.5714285714287,
          928.5714285714287,
          928.5714285714287,
          928.5714285714287,
          928.5714285714287,
          928.5714285714287,
          928.5714285714287,
          928.5714285714287
         ],
         "yaxis": "y"
        },
        {
         "hovertemplate": "variable=Coded<br>Rate=%{x}<br>value=%{y}<extra></extra>",
         "legendgroup": "Coded",
         "line": {
          "color": "#EF553B",
          "dash": "solid"
         },
         "marker": {
          "symbol": "circle"
         },
         "mode": "lines",
         "name": "Coded",
         "orientation": "v",
         "showlegend": true,
         "type": "scatter",
         "x": [
          0.2,
          0.3,
          0.4,
          0.5,
          0.6,
          0.7,
          0.8,
          0.9,
          1
         ],
         "xaxis": "x",
         "y": [
          2500.6496233911466,
          1670.9630913174942,
          1269.116193830778,
          1061.096247504072,
          980.4339808539892,
          988.7273820611227,
          1022.3357956705473,
          1004.7612835233156,
          928.5714285714287
         ],
         "yaxis": "y"
        }
       ],
       "layout": {
        "legend": {
         "title": {
          "text": "variable"
         },
         "tracegroupgap": 0
        },
        "template": {
         "data": {
          "bar": [
           {
            "error_x": {
             "color": "#2a3f5f"
            },
            "error_y": {
             "color": "#2a3f5f"
            },
            "marker": {
             "line": {
              "color": "#E5ECF6",
              "width": 0.5
             },
             "pattern": {
              "fillmode": "overlay",
              "size": 10,
              "solidity": 0.2
             }
            },
            "type": "bar"
           }
          ],
          "barpolar": [
           {
            "marker": {
             "line": {
              "color": "#E5ECF6",
              "width": 0.5
             },
             "pattern": {
              "fillmode": "overlay",
              "size": 10,
              "solidity": 0.2
             }
            },
            "type": "barpolar"
           }
          ],
          "carpet": [
           {
            "aaxis": {
             "endlinecolor": "#2a3f5f",
             "gridcolor": "white",
             "linecolor": "white",
             "minorgridcolor": "white",
             "startlinecolor": "#2a3f5f"
            },
            "baxis": {
             "endlinecolor": "#2a3f5f",
             "gridcolor": "white",
             "linecolor": "white",
             "minorgridcolor": "white",
             "startlinecolor": "#2a3f5f"
            },
            "type": "carpet"
           }
          ],
          "choropleth": [
           {
            "colorbar": {
             "outlinewidth": 0,
             "ticks": ""
            },
            "type": "choropleth"
           }
          ],
          "contour": [
           {
            "colorbar": {
             "outlinewidth": 0,
             "ticks": ""
            },
            "colorscale": [
             [
              0,
              "#0d0887"
             ],
             [
              0.1111111111111111,
              "#46039f"
             ],
             [
              0.2222222222222222,
              "#7201a8"
             ],
             [
              0.3333333333333333,
              "#9c179e"
             ],
             [
              0.4444444444444444,
              "#bd3786"
             ],
             [
              0.5555555555555556,
              "#d8576b"
             ],
             [
              0.6666666666666666,
              "#ed7953"
             ],
             [
              0.7777777777777778,
              "#fb9f3a"
             ],
             [
              0.8888888888888888,
              "#fdca26"
             ],
             [
              1,
              "#f0f921"
             ]
            ],
            "type": "contour"
           }
          ],
          "contourcarpet": [
           {
            "colorbar": {
             "outlinewidth": 0,
             "ticks": ""
            },
            "type": "contourcarpet"
           }
          ],
          "heatmap": [
           {
            "colorbar": {
             "outlinewidth": 0,
             "ticks": ""
            },
            "colorscale": [
             [
              0,
              "#0d0887"
             ],
             [
              0.1111111111111111,
              "#46039f"
             ],
             [
              0.2222222222222222,
              "#7201a8"
             ],
             [
              0.3333333333333333,
              "#9c179e"
             ],
             [
              0.4444444444444444,
              "#bd3786"
             ],
             [
              0.5555555555555556,
              "#d8576b"
             ],
             [
              0.6666666666666666,
              "#ed7953"
             ],
             [
              0.7777777777777778,
              "#fb9f3a"
             ],
             [
              0.8888888888888888,
              "#fdca26"
             ],
             [
              1,
              "#f0f921"
             ]
            ],
            "type": "heatmap"
           }
          ],
          "heatmapgl": [
           {
            "colorbar": {
             "outlinewidth": 0,
             "ticks": ""
            },
            "colorscale": [
             [
              0,
              "#0d0887"
             ],
             [
              0.1111111111111111,
              "#46039f"
             ],
             [
              0.2222222222222222,
              "#7201a8"
             ],
             [
              0.3333333333333333,
              "#9c179e"
             ],
             [
              0.4444444444444444,
              "#bd3786"
             ],
             [
              0.5555555555555556,
              "#d8576b"
             ],
             [
              0.6666666666666666,
              "#ed7953"
             ],
             [
              0.7777777777777778,
              "#fb9f3a"
             ],
             [
              0.8888888888888888,
              "#fdca26"
             ],
             [
              1,
              "#f0f921"
             ]
            ],
            "type": "heatmapgl"
           }
          ],
          "histogram": [
           {
            "marker": {
             "pattern": {
              "fillmode": "overlay",
              "size": 10,
              "solidity": 0.2
             }
            },
            "type": "histogram"
           }
          ],
          "histogram2d": [
           {
            "colorbar": {
             "outlinewidth": 0,
             "ticks": ""
            },
            "colorscale": [
             [
              0,
              "#0d0887"
             ],
             [
              0.1111111111111111,
              "#46039f"
             ],
             [
              0.2222222222222222,
              "#7201a8"
             ],
             [
              0.3333333333333333,
              "#9c179e"
             ],
             [
              0.4444444444444444,
              "#bd3786"
             ],
             [
              0.5555555555555556,
              "#d8576b"
             ],
             [
              0.6666666666666666,
              "#ed7953"
             ],
             [
              0.7777777777777778,
              "#fb9f3a"
             ],
             [
              0.8888888888888888,
              "#fdca26"
             ],
             [
              1,
              "#f0f921"
             ]
            ],
            "type": "histogram2d"
           }
          ],
          "histogram2dcontour": [
           {
            "colorbar": {
             "outlinewidth": 0,
             "ticks": ""
            },
            "colorscale": [
             [
              0,
              "#0d0887"
             ],
             [
              0.1111111111111111,
              "#46039f"
             ],
             [
              0.2222222222222222,
              "#7201a8"
             ],
             [
              0.3333333333333333,
              "#9c179e"
             ],
             [
              0.4444444444444444,
              "#bd3786"
             ],
             [
              0.5555555555555556,
              "#d8576b"
             ],
             [
              0.6666666666666666,
              "#ed7953"
             ],
             [
              0.7777777777777778,
              "#fb9f3a"
             ],
             [
              0.8888888888888888,
              "#fdca26"
             ],
             [
              1,
              "#f0f921"
             ]
            ],
            "type": "histogram2dcontour"
           }
          ],
          "mesh3d": [
           {
            "colorbar": {
             "outlinewidth": 0,
             "ticks": ""
            },
            "type": "mesh3d"
           }
          ],
          "parcoords": [
           {
            "line": {
             "colorbar": {
              "outlinewidth": 0,
              "ticks": ""
             }
            },
            "type": "parcoords"
           }
          ],
          "pie": [
           {
            "automargin": true,
            "type": "pie"
           }
          ],
          "scatter": [
           {
            "fillpattern": {
             "fillmode": "overlay",
             "size": 10,
             "solidity": 0.2
            },
            "type": "scatter"
           }
          ],
          "scatter3d": [
           {
            "line": {
             "colorbar": {
              "outlinewidth": 0,
              "ticks": ""
             }
            },
            "marker": {
             "colorbar": {
              "outlinewidth": 0,
              "ticks": ""
             }
            },
            "type": "scatter3d"
           }
          ],
          "scattercarpet": [
           {
            "marker": {
             "colorbar": {
              "outlinewidth": 0,
              "ticks": ""
             }
            },
            "type": "scattercarpet"
           }
          ],
          "scattergeo": [
           {
            "marker": {
             "colorbar": {
              "outlinewidth": 0,
              "ticks": ""
             }
            },
            "type": "scattergeo"
           }
          ],
          "scattergl": [
           {
            "marker": {
             "colorbar": {
              "outlinewidth": 0,
              "ticks": ""
             }
            },
            "type": "scattergl"
           }
          ],
          "scattermapbox": [
           {
            "marker": {
             "colorbar": {
              "outlinewidth": 0,
              "ticks": ""
             }
            },
            "type": "scattermapbox"
           }
          ],
          "scatterpolar": [
           {
            "marker": {
             "colorbar": {
              "outlinewidth": 0,
              "ticks": ""
             }
            },
            "type": "scatterpolar"
           }
          ],
          "scatterpolargl": [
           {
            "marker": {
             "colorbar": {
              "outlinewidth": 0,
              "ticks": ""
             }
            },
            "type": "scatterpolargl"
           }
          ],
          "scatterternary": [
           {
            "marker": {
             "colorbar": {
              "outlinewidth": 0,
              "ticks": ""
             }
            },
            "type": "scatterternary"
           }
          ],
          "surface": [
           {
            "colorbar": {
             "outlinewidth": 0,
             "ticks": ""
            },
            "colorscale": [
             [
              0,
              "#0d0887"
             ],
             [
              0.1111111111111111,
              "#46039f"
             ],
             [
              0.2222222222222222,
              "#7201a8"
             ],
             [
              0.3333333333333333,
              "#9c179e"
             ],
             [
              0.4444444444444444,
              "#bd3786"
             ],
             [
              0.5555555555555556,
              "#d8576b"
             ],
             [
              0.6666666666666666,
              "#ed7953"
             ],
             [
              0.7777777777777778,
              "#fb9f3a"
             ],
             [
              0.8888888888888888,
              "#fdca26"
             ],
             [
              1,
              "#f0f921"
             ]
            ],
            "type": "surface"
           }
          ],
          "table": [
           {
            "cells": {
             "fill": {
              "color": "#EBF0F8"
             },
             "line": {
              "color": "white"
             }
            },
            "header": {
             "fill": {
              "color": "#C8D4E3"
             },
             "line": {
              "color": "white"
             }
            },
            "type": "table"
           }
          ]
         },
         "layout": {
          "annotationdefaults": {
           "arrowcolor": "#2a3f5f",
           "arrowhead": 0,
           "arrowwidth": 1
          },
          "autotypenumbers": "strict",
          "coloraxis": {
           "colorbar": {
            "outlinewidth": 0,
            "ticks": ""
           }
          },
          "colorscale": {
           "diverging": [
            [
             0,
             "#8e0152"
            ],
            [
             0.1,
             "#c51b7d"
            ],
            [
             0.2,
             "#de77ae"
            ],
            [
             0.3,
             "#f1b6da"
            ],
            [
             0.4,
             "#fde0ef"
            ],
            [
             0.5,
             "#f7f7f7"
            ],
            [
             0.6,
             "#e6f5d0"
            ],
            [
             0.7,
             "#b8e186"
            ],
            [
             0.8,
             "#7fbc41"
            ],
            [
             0.9,
             "#4d9221"
            ],
            [
             1,
             "#276419"
            ]
           ],
           "sequential": [
            [
             0,
             "#0d0887"
            ],
            [
             0.1111111111111111,
             "#46039f"
            ],
            [
             0.2222222222222222,
             "#7201a8"
            ],
            [
             0.3333333333333333,
             "#9c179e"
            ],
            [
             0.4444444444444444,
             "#bd3786"
            ],
            [
             0.5555555555555556,
             "#d8576b"
            ],
            [
             0.6666666666666666,
             "#ed7953"
            ],
            [
             0.7777777777777778,
             "#fb9f3a"
            ],
            [
             0.8888888888888888,
             "#fdca26"
            ],
            [
             1,
             "#f0f921"
            ]
           ],
           "sequentialminus": [
            [
             0,
             "#0d0887"
            ],
            [
             0.1111111111111111,
             "#46039f"
            ],
            [
             0.2222222222222222,
             "#7201a8"
            ],
            [
             0.3333333333333333,
             "#9c179e"
            ],
            [
             0.4444444444444444,
             "#bd3786"
            ],
            [
             0.5555555555555556,
             "#d8576b"
            ],
            [
             0.6666666666666666,
             "#ed7953"
            ],
            [
             0.7777777777777778,
             "#fb9f3a"
            ],
            [
             0.8888888888888888,
             "#fdca26"
            ],
            [
             1,
             "#f0f921"
            ]
           ]
          },
          "colorway": [
           "#636efa",
           "#EF553B",
           "#00cc96",
           "#ab63fa",
           "#FFA15A",
           "#19d3f3",
           "#FF6692",
           "#B6E880",
           "#FF97FF",
           "#FECB52"
          ],
          "font": {
           "color": "#2a3f5f"
          },
          "geo": {
           "bgcolor": "white",
           "lakecolor": "white",
           "landcolor": "#E5ECF6",
           "showlakes": true,
           "showland": true,
           "subunitcolor": "white"
          },
          "hoverlabel": {
           "align": "left"
          },
          "hovermode": "closest",
          "mapbox": {
           "style": "light"
          },
          "paper_bgcolor": "white",
          "plot_bgcolor": "#E5ECF6",
          "polar": {
           "angularaxis": {
            "gridcolor": "white",
            "linecolor": "white",
            "ticks": ""
           },
           "bgcolor": "#E5ECF6",
           "radialaxis": {
            "gridcolor": "white",
            "linecolor": "white",
            "ticks": ""
           }
          },
          "scene": {
           "xaxis": {
            "backgroundcolor": "#E5ECF6",
            "gridcolor": "white",
            "gridwidth": 2,
            "linecolor": "white",
            "showbackground": true,
            "ticks": "",
            "zerolinecolor": "white"
           },
           "yaxis": {
            "backgroundcolor": "#E5ECF6",
            "gridcolor": "white",
            "gridwidth": 2,
            "linecolor": "white",
            "showbackground": true,
            "ticks": "",
            "zerolinecolor": "white"
           },
           "zaxis": {
            "backgroundcolor": "#E5ECF6",
            "gridcolor": "white",
            "gridwidth": 2,
            "linecolor": "white",
            "showbackground": true,
            "ticks": "",
            "zerolinecolor": "white"
           }
          },
          "shapedefaults": {
           "line": {
            "color": "#2a3f5f"
           }
          },
          "ternary": {
           "aaxis": {
            "gridcolor": "white",
            "linecolor": "white",
            "ticks": ""
           },
           "baxis": {
            "gridcolor": "white",
            "linecolor": "white",
            "ticks": ""
           },
           "bgcolor": "#E5ECF6",
           "caxis": {
            "gridcolor": "white",
            "linecolor": "white",
            "ticks": ""
           }
          },
          "title": {
           "x": 0.05
          },
          "xaxis": {
           "automargin": true,
           "gridcolor": "white",
           "linecolor": "white",
           "ticks": "",
           "title": {
            "standoff": 15
           },
           "zerolinecolor": "white",
           "zerolinewidth": 2
          },
          "yaxis": {
           "automargin": true,
           "gridcolor": "white",
           "linecolor": "white",
           "ticks": "",
           "title": {
            "standoff": 15
           },
           "zerolinecolor": "white",
           "zerolinewidth": 2
          }
         }
        },
        "title": {
         "text": "AoI"
        },
        "xaxis": {
         "anchor": "y",
         "domain": [
          0,
          1
         ],
         "title": {
          "text": "Rate"
         }
        },
        "yaxis": {
         "anchor": "x",
         "domain": [
          0,
          1
         ],
         "title": {
          "text": "value"
         }
        }
       }
      },
      "text/html": [
       "<div>                            <div id=\"ad240f00-95b1-4489-a685-064c8f7d10a5\" class=\"plotly-graph-div\" style=\"height:525px; width:100%;\"></div>            <script type=\"text/javascript\">                require([\"plotly\"], function(Plotly) {                    window.PLOTLYENV=window.PLOTLYENV || {};                                    if (document.getElementById(\"ad240f00-95b1-4489-a685-064c8f7d10a5\")) {                    Plotly.newPlot(                        \"ad240f00-95b1-4489-a685-064c8f7d10a5\",                        [{\"hovertemplate\":\"variable=Uncoded<br>Rate=%{x}<br>value=%{y}<extra></extra>\",\"legendgroup\":\"Uncoded\",\"line\":{\"color\":\"#636efa\",\"dash\":\"solid\"},\"marker\":{\"symbol\":\"circle\"},\"mode\":\"lines\",\"name\":\"Uncoded\",\"orientation\":\"v\",\"showlegend\":true,\"x\":[0.2,0.3,0.4,0.5,0.6,0.7,0.8,0.9,1.0],\"xaxis\":\"x\",\"y\":[928.5714285714287,928.5714285714287,928.5714285714287,928.5714285714287,928.5714285714287,928.5714285714287,928.5714285714287,928.5714285714287,928.5714285714287],\"yaxis\":\"y\",\"type\":\"scatter\"},{\"hovertemplate\":\"variable=Coded<br>Rate=%{x}<br>value=%{y}<extra></extra>\",\"legendgroup\":\"Coded\",\"line\":{\"color\":\"#EF553B\",\"dash\":\"solid\"},\"marker\":{\"symbol\":\"circle\"},\"mode\":\"lines\",\"name\":\"Coded\",\"orientation\":\"v\",\"showlegend\":true,\"x\":[0.2,0.3,0.4,0.5,0.6,0.7,0.8,0.9,1.0],\"xaxis\":\"x\",\"y\":[2500.6496233911466,1670.9630913174942,1269.116193830778,1061.096247504072,980.4339808539892,988.7273820611227,1022.3357956705473,1004.7612835233156,928.5714285714287],\"yaxis\":\"y\",\"type\":\"scatter\"}],                        {\"template\":{\"data\":{\"histogram2dcontour\":[{\"type\":\"histogram2dcontour\",\"colorbar\":{\"outlinewidth\":0,\"ticks\":\"\"},\"colorscale\":[[0.0,\"#0d0887\"],[0.1111111111111111,\"#46039f\"],[0.2222222222222222,\"#7201a8\"],[0.3333333333333333,\"#9c179e\"],[0.4444444444444444,\"#bd3786\"],[0.5555555555555556,\"#d8576b\"],[0.6666666666666666,\"#ed7953\"],[0.7777777777777778,\"#fb9f3a\"],[0.8888888888888888,\"#fdca26\"],[1.0,\"#f0f921\"]]}],\"choropleth\":[{\"type\":\"choropleth\",\"colorbar\":{\"outlinewidth\":0,\"ticks\":\"\"}}],\"histogram2d\":[{\"type\":\"histogram2d\",\"colorbar\":{\"outlinewidth\":0,\"ticks\":\"\"},\"colorscale\":[[0.0,\"#0d0887\"],[0.1111111111111111,\"#46039f\"],[0.2222222222222222,\"#7201a8\"],[0.3333333333333333,\"#9c179e\"],[0.4444444444444444,\"#bd3786\"],[0.5555555555555556,\"#d8576b\"],[0.6666666666666666,\"#ed7953\"],[0.7777777777777778,\"#fb9f3a\"],[0.8888888888888888,\"#fdca26\"],[1.0,\"#f0f921\"]]}],\"heatmap\":[{\"type\":\"heatmap\",\"colorbar\":{\"outlinewidth\":0,\"ticks\":\"\"},\"colorscale\":[[0.0,\"#0d0887\"],[0.1111111111111111,\"#46039f\"],[0.2222222222222222,\"#7201a8\"],[0.3333333333333333,\"#9c179e\"],[0.4444444444444444,\"#bd3786\"],[0.5555555555555556,\"#d8576b\"],[0.6666666666666666,\"#ed7953\"],[0.7777777777777778,\"#fb9f3a\"],[0.8888888888888888,\"#fdca26\"],[1.0,\"#f0f921\"]]}],\"heatmapgl\":[{\"type\":\"heatmapgl\",\"colorbar\":{\"outlinewidth\":0,\"ticks\":\"\"},\"colorscale\":[[0.0,\"#0d0887\"],[0.1111111111111111,\"#46039f\"],[0.2222222222222222,\"#7201a8\"],[0.3333333333333333,\"#9c179e\"],[0.4444444444444444,\"#bd3786\"],[0.5555555555555556,\"#d8576b\"],[0.6666666666666666,\"#ed7953\"],[0.7777777777777778,\"#fb9f3a\"],[0.8888888888888888,\"#fdca26\"],[1.0,\"#f0f921\"]]}],\"contourcarpet\":[{\"type\":\"contourcarpet\",\"colorbar\":{\"outlinewidth\":0,\"ticks\":\"\"}}],\"contour\":[{\"type\":\"contour\",\"colorbar\":{\"outlinewidth\":0,\"ticks\":\"\"},\"colorscale\":[[0.0,\"#0d0887\"],[0.1111111111111111,\"#46039f\"],[0.2222222222222222,\"#7201a8\"],[0.3333333333333333,\"#9c179e\"],[0.4444444444444444,\"#bd3786\"],[0.5555555555555556,\"#d8576b\"],[0.6666666666666666,\"#ed7953\"],[0.7777777777777778,\"#fb9f3a\"],[0.8888888888888888,\"#fdca26\"],[1.0,\"#f0f921\"]]}],\"surface\":[{\"type\":\"surface\",\"colorbar\":{\"outlinewidth\":0,\"ticks\":\"\"},\"colorscale\":[[0.0,\"#0d0887\"],[0.1111111111111111,\"#46039f\"],[0.2222222222222222,\"#7201a8\"],[0.3333333333333333,\"#9c179e\"],[0.4444444444444444,\"#bd3786\"],[0.5555555555555556,\"#d8576b\"],[0.6666666666666666,\"#ed7953\"],[0.7777777777777778,\"#fb9f3a\"],[0.8888888888888888,\"#fdca26\"],[1.0,\"#f0f921\"]]}],\"mesh3d\":[{\"type\":\"mesh3d\",\"colorbar\":{\"outlinewidth\":0,\"ticks\":\"\"}}],\"scatter\":[{\"fillpattern\":{\"fillmode\":\"overlay\",\"size\":10,\"solidity\":0.2},\"type\":\"scatter\"}],\"parcoords\":[{\"type\":\"parcoords\",\"line\":{\"colorbar\":{\"outlinewidth\":0,\"ticks\":\"\"}}}],\"scatterpolargl\":[{\"type\":\"scatterpolargl\",\"marker\":{\"colorbar\":{\"outlinewidth\":0,\"ticks\":\"\"}}}],\"bar\":[{\"error_x\":{\"color\":\"#2a3f5f\"},\"error_y\":{\"color\":\"#2a3f5f\"},\"marker\":{\"line\":{\"color\":\"#E5ECF6\",\"width\":0.5},\"pattern\":{\"fillmode\":\"overlay\",\"size\":10,\"solidity\":0.2}},\"type\":\"bar\"}],\"scattergeo\":[{\"type\":\"scattergeo\",\"marker\":{\"colorbar\":{\"outlinewidth\":0,\"ticks\":\"\"}}}],\"scatterpolar\":[{\"type\":\"scatterpolar\",\"marker\":{\"colorbar\":{\"outlinewidth\":0,\"ticks\":\"\"}}}],\"histogram\":[{\"marker\":{\"pattern\":{\"fillmode\":\"overlay\",\"size\":10,\"solidity\":0.2}},\"type\":\"histogram\"}],\"scattergl\":[{\"type\":\"scattergl\",\"marker\":{\"colorbar\":{\"outlinewidth\":0,\"ticks\":\"\"}}}],\"scatter3d\":[{\"type\":\"scatter3d\",\"line\":{\"colorbar\":{\"outlinewidth\":0,\"ticks\":\"\"}},\"marker\":{\"colorbar\":{\"outlinewidth\":0,\"ticks\":\"\"}}}],\"scattermapbox\":[{\"type\":\"scattermapbox\",\"marker\":{\"colorbar\":{\"outlinewidth\":0,\"ticks\":\"\"}}}],\"scatterternary\":[{\"type\":\"scatterternary\",\"marker\":{\"colorbar\":{\"outlinewidth\":0,\"ticks\":\"\"}}}],\"scattercarpet\":[{\"type\":\"scattercarpet\",\"marker\":{\"colorbar\":{\"outlinewidth\":0,\"ticks\":\"\"}}}],\"carpet\":[{\"aaxis\":{\"endlinecolor\":\"#2a3f5f\",\"gridcolor\":\"white\",\"linecolor\":\"white\",\"minorgridcolor\":\"white\",\"startlinecolor\":\"#2a3f5f\"},\"baxis\":{\"endlinecolor\":\"#2a3f5f\",\"gridcolor\":\"white\",\"linecolor\":\"white\",\"minorgridcolor\":\"white\",\"startlinecolor\":\"#2a3f5f\"},\"type\":\"carpet\"}],\"table\":[{\"cells\":{\"fill\":{\"color\":\"#EBF0F8\"},\"line\":{\"color\":\"white\"}},\"header\":{\"fill\":{\"color\":\"#C8D4E3\"},\"line\":{\"color\":\"white\"}},\"type\":\"table\"}],\"barpolar\":[{\"marker\":{\"line\":{\"color\":\"#E5ECF6\",\"width\":0.5},\"pattern\":{\"fillmode\":\"overlay\",\"size\":10,\"solidity\":0.2}},\"type\":\"barpolar\"}],\"pie\":[{\"automargin\":true,\"type\":\"pie\"}]},\"layout\":{\"autotypenumbers\":\"strict\",\"colorway\":[\"#636efa\",\"#EF553B\",\"#00cc96\",\"#ab63fa\",\"#FFA15A\",\"#19d3f3\",\"#FF6692\",\"#B6E880\",\"#FF97FF\",\"#FECB52\"],\"font\":{\"color\":\"#2a3f5f\"},\"hovermode\":\"closest\",\"hoverlabel\":{\"align\":\"left\"},\"paper_bgcolor\":\"white\",\"plot_bgcolor\":\"#E5ECF6\",\"polar\":{\"bgcolor\":\"#E5ECF6\",\"angularaxis\":{\"gridcolor\":\"white\",\"linecolor\":\"white\",\"ticks\":\"\"},\"radialaxis\":{\"gridcolor\":\"white\",\"linecolor\":\"white\",\"ticks\":\"\"}},\"ternary\":{\"bgcolor\":\"#E5ECF6\",\"aaxis\":{\"gridcolor\":\"white\",\"linecolor\":\"white\",\"ticks\":\"\"},\"baxis\":{\"gridcolor\":\"white\",\"linecolor\":\"white\",\"ticks\":\"\"},\"caxis\":{\"gridcolor\":\"white\",\"linecolor\":\"white\",\"ticks\":\"\"}},\"coloraxis\":{\"colorbar\":{\"outlinewidth\":0,\"ticks\":\"\"}},\"colorscale\":{\"sequential\":[[0.0,\"#0d0887\"],[0.1111111111111111,\"#46039f\"],[0.2222222222222222,\"#7201a8\"],[0.3333333333333333,\"#9c179e\"],[0.4444444444444444,\"#bd3786\"],[0.5555555555555556,\"#d8576b\"],[0.6666666666666666,\"#ed7953\"],[0.7777777777777778,\"#fb9f3a\"],[0.8888888888888888,\"#fdca26\"],[1.0,\"#f0f921\"]],\"sequentialminus\":[[0.0,\"#0d0887\"],[0.1111111111111111,\"#46039f\"],[0.2222222222222222,\"#7201a8\"],[0.3333333333333333,\"#9c179e\"],[0.4444444444444444,\"#bd3786\"],[0.5555555555555556,\"#d8576b\"],[0.6666666666666666,\"#ed7953\"],[0.7777777777777778,\"#fb9f3a\"],[0.8888888888888888,\"#fdca26\"],[1.0,\"#f0f921\"]],\"diverging\":[[0,\"#8e0152\"],[0.1,\"#c51b7d\"],[0.2,\"#de77ae\"],[0.3,\"#f1b6da\"],[0.4,\"#fde0ef\"],[0.5,\"#f7f7f7\"],[0.6,\"#e6f5d0\"],[0.7,\"#b8e186\"],[0.8,\"#7fbc41\"],[0.9,\"#4d9221\"],[1,\"#276419\"]]},\"xaxis\":{\"gridcolor\":\"white\",\"linecolor\":\"white\",\"ticks\":\"\",\"title\":{\"standoff\":15},\"zerolinecolor\":\"white\",\"automargin\":true,\"zerolinewidth\":2},\"yaxis\":{\"gridcolor\":\"white\",\"linecolor\":\"white\",\"ticks\":\"\",\"title\":{\"standoff\":15},\"zerolinecolor\":\"white\",\"automargin\":true,\"zerolinewidth\":2},\"scene\":{\"xaxis\":{\"backgroundcolor\":\"#E5ECF6\",\"gridcolor\":\"white\",\"linecolor\":\"white\",\"showbackground\":true,\"ticks\":\"\",\"zerolinecolor\":\"white\",\"gridwidth\":2},\"yaxis\":{\"backgroundcolor\":\"#E5ECF6\",\"gridcolor\":\"white\",\"linecolor\":\"white\",\"showbackground\":true,\"ticks\":\"\",\"zerolinecolor\":\"white\",\"gridwidth\":2},\"zaxis\":{\"backgroundcolor\":\"#E5ECF6\",\"gridcolor\":\"white\",\"linecolor\":\"white\",\"showbackground\":true,\"ticks\":\"\",\"zerolinecolor\":\"white\",\"gridwidth\":2}},\"shapedefaults\":{\"line\":{\"color\":\"#2a3f5f\"}},\"annotationdefaults\":{\"arrowcolor\":\"#2a3f5f\",\"arrowhead\":0,\"arrowwidth\":1},\"geo\":{\"bgcolor\":\"white\",\"landcolor\":\"#E5ECF6\",\"subunitcolor\":\"white\",\"showland\":true,\"showlakes\":true,\"lakecolor\":\"white\"},\"title\":{\"x\":0.05},\"mapbox\":{\"style\":\"light\"}}},\"xaxis\":{\"anchor\":\"y\",\"domain\":[0.0,1.0],\"title\":{\"text\":\"Rate\"}},\"yaxis\":{\"anchor\":\"x\",\"domain\":[0.0,1.0],\"title\":{\"text\":\"value\"}},\"legend\":{\"title\":{\"text\":\"variable\"},\"tracegroupgap\":0},\"title\":{\"text\":\"AoI\"}},                        {\"responsive\": true}                    ).then(function(){\n",
       "                            \n",
       "var gd = document.getElementById('ad240f00-95b1-4489-a685-064c8f7d10a5');\n",
       "var x = new MutationObserver(function (mutations, observer) {{\n",
       "        var display = window.getComputedStyle(gd).display;\n",
       "        if (!display || display === 'none') {{\n",
       "            console.log([gd, 'removed!']);\n",
       "            Plotly.purge(gd);\n",
       "            observer.disconnect();\n",
       "        }}\n",
       "}});\n",
       "\n",
       "// Listen for the removal of the full notebook cells\n",
       "var notebookContainer = gd.closest('#notebook-container');\n",
       "if (notebookContainer) {{\n",
       "    x.observe(notebookContainer, {childList: true});\n",
       "}}\n",
       "\n",
       "// Listen for the clearing of the current output cell\n",
       "var outputEl = gd.closest('.output');\n",
       "if (outputEl) {{\n",
       "    x.observe(outputEl, {childList: true});\n",
       "}}\n",
       "\n",
       "                        })                };                });            </script>        </div>"
      ]
     },
     "metadata": {},
     "output_type": "display_data"
    }
   ],
   "source": [
    "fig = px.line(Df, x=\"Rate\", y=[\"Uncoded\",\"Coded\"], title='AoI')\n",
    "fig.show()"
   ]
  },
  {
   "cell_type": "code",
   "execution_count": 176,
   "id": "a06c491a",
   "metadata": {},
   "outputs": [
    {
     "data": {
      "text/plain": [
       "[<matplotlib.lines.Line2D at 0x7fb45f955180>]"
      ]
     },
     "execution_count": 176,
     "metadata": {},
     "output_type": "execute_result"
    },
    {
     "data": {
      "image/png": "[encoded data removed]",
      "text/plain": [
       "<Figure size 432x288 with 1 Axes>"
      ]
     },
     "metadata": {
      "needs_background": "light"
     },
     "output_type": "display_data"
    }
   ],
   "source": [
    "plt.plot(R_list,pf_list)"
   ]
  },
  {
   "cell_type": "code",
   "execution_count": null,
   "id": "b23c8964",
   "metadata": {},
   "outputs": [],
   "source": []
  },
  {
   "cell_type": "code",
   "execution_count": null,
   "id": "ddffe047",
   "metadata": {},
   "outputs": [],
   "source": []
  },
  {
   "cell_type": "code",
   "execution_count": null,
   "id": "b76c49a9",
   "metadata": {},
   "outputs": [],
   "source": []
  }
 ],
 "metadata": {
  "kernelspec": {
   "display_name": "Python 3 (ipykernel)",
   "language": "python",
   "name": "python3"
  },
  "language_info": {
   "codemirror_mode": {
    "name": "ipython",
    "version": 3
   },
   "file_extension": ".py",
   "mimetype": "text/x-python",
   "name": "python",
   "nbconvert_exporter": "python",
   "pygments_lexer": "ipython3",
   "version": "3.10.6"
  }
 },
 "nbformat": 4,
 "nbformat_minor": 5
}
